{
 "cells": [
  {
   "cell_type": "markdown",
   "metadata": {},
   "source": [
    "# STA 141B Assignment 4\n",
    "\n",
    "Due __Feb 22, 2019__ by 11:59pm. Submit by editing this file, committing the changes with git, and then pushing to your private GitHub repo for the assignment. This assignment will be graded according to the class rubric.\n",
    "\n",
    "Please do not rename this file or delete the exercise cells, because it will interfere with our grading tools. Put your answers in new cells after each exercise. You can make as many new cells as you like. Use code cells for code and Markdown cells for text. Answer all questions with complete sentences.\n",
    "\n",
    "The purpose of this assignment is to practice scraping data from web pages."
   ]
  },
  {
   "cell_type": "code",
   "execution_count": 1,
   "metadata": {},
   "outputs": [],
   "source": [
    "import numpy as np\n",
    "import pandas as pd\n",
    "import requests\n",
    "import requests_cache\n",
    "\n",
    "requests_cache.install_cache(\"mycache\")"
   ]
  },
  {
   "cell_type": "code",
   "execution_count": 2,
   "metadata": {},
   "outputs": [],
   "source": [
    "import lxml.html as lx"
   ]
  },
  {
   "cell_type": "code",
   "execution_count": 3,
   "metadata": {},
   "outputs": [],
   "source": [
    "import time"
   ]
  },
  {
   "cell_type": "code",
   "execution_count": 4,
   "metadata": {},
   "outputs": [],
   "source": [
    "import nltk\n",
    "import nltk.corpus"
   ]
  },
  {
   "cell_type": "code",
   "execution_count": 5,
   "metadata": {},
   "outputs": [],
   "source": [
    "%matplotlib inline"
   ]
  },
  {
   "cell_type": "markdown",
   "metadata": {},
   "source": [
    "## The San Francisco Chronicle\n",
    "\n",
    "In this assignment, you'll scrape text from [The San Francisco Chronicle](https://www.sfchronicle.com/) newspaper and then analyze the text.\n",
    "\n",
    "The Chronicle is organized by category into article lists. For example, there's a [Local](https://www.sfchronicle.com/local/) list, [Sports](https://www.sfchronicle.com/sports/) list, and [Food](https://www.sfchronicle.com/food/) list.\n",
    "\n",
    "The goal of exercises 1.1 - 1.3 is to scrape articles from the Chronicle for analysis in exercise 1.4."
   ]
  },
  {
   "cell_type": "markdown",
   "metadata": {
    "tags": [
     "exercise"
    ]
   },
   "source": [
    "__Exercise 1.1.__ Write a function that extracts all of the links to articles in a Chronicle article list. The function should:\n",
    "\n",
    "* Have a parameter `url` for the URL of the article list.\n",
    "\n",
    "* Return a list of article URLs (each URL should be a string).\n",
    "\n",
    "Test your function on 2-3 different categories to make sure it works.\n",
    "\n",
    "Hints:\n",
    "\n",
    "* Be polite and save time by setting up [requests_cache](https://pypi.python.org/pypi/requests-cache) before you write your function.\n",
    "\n",
    "* You can use any of the XML/HTML parsing packages mentioned in class. Choose one and use it throughout the entire assignment."
   ]
  },
  {
   "cell_type": "code",
   "execution_count": 6,
   "metadata": {},
   "outputs": [],
   "source": [
    "def get_links(url):\n",
    "    \"\"\"This function has a parameter url for the URL of the article list, and return a list of article URLs\n",
    "    \"\"\"\n",
    "    \n",
    "    # Download the page\n",
    "    response = requests.get(url)\n",
    "    response.raise_for_status()\n",
    "\n",
    "    # Parse the HTML\n",
    "    html = lx.fromstring(response.text)\n",
    "    html.make_links_absolute(url)\n",
    "    \n",
    "    #Get url from each parts of the html\n",
    "    links1 = html.xpath(\"//h2[contains(@class, 'headline')]//a/@href\")\n",
    "    links2 = html.xpath(\"//h4[not(contains(@class, 'kicker-link'))]//a/@href\")\n",
    "    links3 = html.xpath(\"//h3[contains(@class, 'headline display-above')]//a/@href\")\n",
    "    \n",
    "    #Tansfer links to str.\n",
    "    links1 = [str(l) for l in links1]\n",
    "    links2 = [str(l) for l in links2]\n",
    "    links3 = [str(l) for l in links3]\n",
    "    \n",
    "    #Combine all the urls and make them unique.\n",
    "    links = links1 + links2 + links3\n",
    "    return list(set(links))\n",
    "\n",
    "    \n",
    "    "
   ]
  },
  {
   "cell_type": "code",
   "execution_count": 7,
   "metadata": {},
   "outputs": [
    {
     "data": {
      "text/plain": [
       "['https://www.sfchronicle.com/bayarea/article/She-had-vision-and-drive-but-job-loss-could-have-13500895.php',\n",
       " 'https://www.sfchronicle.com/bayarea/article/Single-mom-s-dream-tripped-up-by-volcano-Marin-13443142.php',\n",
       " 'https://www.sfchronicle.com/bayarea/article/Season-of-Sharing-She-inherited-a-house-then-13436015.php',\n",
       " 'https://www.sfchronicle.com/bayarea/heatherknight/article/Supervisor-Norman-Yee-advises-getting-a-lawyer-13625687.php',\n",
       " 'https://www.sfchronicle.com/bayarea/article/Season-of-Sharing-Mom-s-and-daughter-s-lives-13413262.php',\n",
       " 'https://www.sfchronicle.com/politics/article/Bay-Area-political-events-Legislators-town-13637118.php',\n",
       " 'https://projects.sfchronicle.com/2018/stem-cells/politics/',\n",
       " 'https://projects.sfchronicle.com/2018/stem-cells/clinics/',\n",
       " 'https://www.sfchronicle.com/california-wildfires/article/As-terror-of-wildfire-fades-survivors-face-new-13279744.php',\n",
       " 'https://www.sfchronicle.com/bayarea/heatherknight/article/Mayor-s-call-for-housing-seeks-to-speed-glacial-13588817.php']"
      ]
     },
     "execution_count": 7,
     "metadata": {},
     "output_type": "execute_result"
    }
   ],
   "source": [
    "#Test on loacl\n",
    "local = get_links(\"https://www.sfchronicle.com/local/\")\n",
    "local[0:10]"
   ]
  },
  {
   "cell_type": "code",
   "execution_count": 8,
   "metadata": {},
   "outputs": [
    {
     "data": {
      "text/plain": [
       "['https://www.sfchronicle.com/sports/article/We-know-football-is-deadly-What-are-we-going-to-13319238.php',\n",
       " 'https://www.sfchronicle.com/raiders/article/Raiders-hire-A-J-Neibel-to-lead-strength-and-13605901.php',\n",
       " 'https://www.sfchronicle.com/giants/article/Giants-to-roll-out-Mac-Attack-in-Cactus-League-13637774.php',\n",
       " 'https://www.sfchronicle.com/raiders/article/Raiders-playing-in-Oracle-Park-remains-a-13595411.php',\n",
       " 'https://www.sfchronicle.com/collegesports/article/Dominican-s-prolific-Natalie-Diaz-powered-by-13620996.php',\n",
       " 'https://www.sfchronicle.com/athletics/article/Starter-Parker-Dunshee-rapidly-rising-through-13638225.php',\n",
       " 'https://www.sfchronicle.com/athletics/article/Parker-Bridwell-is-in-better-spot-with-A-s-than-13634911.php',\n",
       " 'https://www.sfchronicle.com/collegesports/article/Arizona-State-s-Rob-Edwards-proves-too-much-for-13632683.php',\n",
       " 'https://www.sfchronicle.com/collegesports/article/Stanford-men-seek-tie-breaking-sweep-of-Arizona-13628471.php',\n",
       " 'https://www.sfchronicle.com/49ers/article/Concussion-Protocol-A-filmmakers-view-13319240.php']"
      ]
     },
     "execution_count": 8,
     "metadata": {},
     "output_type": "execute_result"
    }
   ],
   "source": [
    "#Test on sports\n",
    "sports = get_links(\"https://www.sfchronicle.com/sports/\")\n",
    "sports[0:10]"
   ]
  },
  {
   "cell_type": "code",
   "execution_count": 9,
   "metadata": {},
   "outputs": [
    {
     "data": {
      "text/plain": [
       "['https://www.sfchronicle.com/food/article/The-gayest-cook-in-the-Castro-12281983.php',\n",
       " 'https://www.sfchronicle.com/restaurants/article/When-it-came-to-restaurants-Ed-Lee-was-a-regular-12425600.php',\n",
       " 'https://www.sfchronicle.com/food/article/2017-wasn-t-the-greatest-year-for-San-Francisco-12480441.php',\n",
       " 'https://www.sfchronicle.com/restaurants/article/All-Consuming-Outer-Sunset-diners-and-deep-dives-11267862.php',\n",
       " 'https://www.sfchronicle.com/recipes/article/6-health-claims-based-on-industry-funded-food-13631572.php',\n",
       " 'https://www.sfchronicle.com/wine/article/Months-after-Wine-Country-fires-damaged-12474309.php',\n",
       " 'https://www.sfchronicle.com/wine/article/Verjus-answers-the-call-of-San-Francisco-s-13535408.php',\n",
       " 'https://www.sfchronicle.com/food/article/Welcome-to-Refuge-Stories-about-finding-humanity-12281940.php',\n",
       " 'https://www.sfchronicle.com/wine/spirits/article/How-the-Bay-Area-s-craft-cocktail-culture-was-12398896.php',\n",
       " 'https://www.sfchronicle.com/wine/article/Kosta-Browne-reverses-course-on-its-lush-ripe-12338836.php']"
      ]
     },
     "execution_count": 9,
     "metadata": {},
     "output_type": "execute_result"
    }
   ],
   "source": [
    "#Test on food\n",
    "food = get_links(\"https://www.sfchronicle.com/food/\")\n",
    "food[0:10]"
   ]
  },
  {
   "cell_type": "markdown",
   "metadata": {
    "tags": [
     "exercise"
    ]
   },
   "source": [
    "__Exercise 1.2.__ Write a function that extracts data from a Chronicle article. The function should:\n",
    "\n",
    "* Have a parameter `url` for the URL of the article.\n",
    "\n",
    "* Return a dictionary with keys for:\n",
    "    + `url`: The URL of the article.\n",
    "    + `title`: The title of the article.\n",
    "    + `text`: The complete text of the article.\n",
    "    + `author`: The author's name (if available) or a suitable missing value.\n",
    "    + `date`: The date and time the article was published.\n",
    "    + `date_updated`: The date and time the article was last updated (if available) or a suitable missing value.\n",
    "\n",
    "For example, for [this article](https://www.sfchronicle.com/homeandgarden/article/Gardenlust-looks-at-best-21st-century-13580871.php) your function should return a dictionary with the form:\n",
    "```js\n",
    "{'url': 'https://www.sfchronicle.com/homeandgarden/article/Gardenlust-looks-at-best-21st-century-13580871.php',\n",
    " 'title': '‘Gardenlust’ looks at best 21st century gardens in the world',\n",
    " 'text': 'The book...',\n",
    " 'author': 'Pam Peirce',\n",
    " 'date': '2019-02-01T18:02:33+00:00',\n",
    " 'date_updated': '2019-02-01T18:12:53+00:00'}\n",
    "```\n",
    "The value of the `text` field is omitted here to save space. Your function should return the full text in the `text` field.\n",
    "\n",
    "Hints:\n",
    "\n",
    "* Many parsing packages allow you to delete elements from an HTML document. Deleting elements is one way to avoid extracting unwanted tags.\n",
    "* You can union multiple XPath paths with `|`."
   ]
  },
  {
   "cell_type": "code",
   "execution_count": 10,
   "metadata": {},
   "outputs": [],
   "source": [
    "def get_information(url):\n",
    "    \"\"\"This function has a parameter url for the URL of the article. And returns a dictionary with keys for url,\n",
    "    title,text,author,date and date_updated.\n",
    "    \"\"\"\n",
    "    # Download the page and Parse the HTML\n",
    "    response = requests.get(url)\n",
    "    response.raise_for_status()\n",
    "    html = lx.fromstring(response.text)\n",
    "\n",
    "    #Get the title\n",
    "    try:\n",
    "        title = html.xpath(\"//h1[contains(@class, 'header-title')]|//h1[contains(@class, 'headline entry-title')]\")\n",
    "        title = title[0].text_content()\n",
    "    except:\n",
    "        title = np.NaN\n",
    "    \n",
    "    #Get the text\n",
    "    try:\n",
    "        text_list = [x.text_content() for x in html.xpath(\"//section[contains(@class, 'body')]/p|//div[contains(@class,'article-body')]/p\")]\n",
    "        text = \"\\n\".join(text_list)\n",
    "    except:\n",
    "        text = np.NaN\n",
    "    \n",
    "    #Get the author,and remove 'By' and extra white space if necessary\n",
    "    try:\n",
    "        author = html.xpath(\"//p[contains(@class,'byline')]/a|//span[contains(@class, 'header-authors-name')]|//span[contains(@class,'header-byline')]\")\n",
    "        author = author[0].text_content().strip('\\n ').strip('By ')\n",
    "    except:\n",
    "        author = np.NaN\n",
    "\n",
    "    \n",
    "    #Get the date\n",
    "    try:\n",
    "        date = html.xpath(\"//time[contains(@itemprop, 'datePublished')]/@datetime|//meta[contains(@itemprop,'datePublished')]/@content\")[0]\n",
    "    except:\n",
    "        date = np.NaN\n",
    "        \n",
    "    #Get the update date\n",
    "    try:\n",
    "        date_updated = html.xpath(\"//time[contains(@itemprop, 'dateModified')]/@datetime|//meta[contains(@name,'article:modified_time')]/@content\")[0]\n",
    "    except:\n",
    "        date_updated = np.NaN\n",
    "        \n",
    "        \n",
    "    time.sleep(0.1)\n",
    "    return {\"url\":url,\"title\":title,\"text\":text,\"author\":author,\"date\":date,\"date_updated\":date_updated}\n",
    "    "
   ]
  },
  {
   "cell_type": "code",
   "execution_count": 11,
   "metadata": {},
   "outputs": [
    {
     "data": {
      "text/plain": [
       "{'url': 'https://www.sfchronicle.com/homeandgarden/article/Gardenlust-looks-at-best-21st-century-13580871.php',\n",
       " 'title': '‘Gardenlust’ looks at best 21st century gardens in the world',\n",
       " 'text': 'The book “Gardenlust: A Botanical Tour of the World’s Best New Gardens” by Christopher Woods (Timber Press, 416 pages, $40) shows you gardens from around the globe, including some surprising places such as Oman, Singapore and the island of Nevis in the West Indies, all of them created in the past 20 years. Fifty gardens or designers are featured. The sites are all engaging; some are breathtaking.\\nWoods, the author and major photographer of the book, began his career as a gardener at Kew Gardens in London. He then worked at a number of public gardens in England and the U.S., including 20 years as director and chief designer of Chanticleer Arboretum in Pennsylvania. (I have been to Chanticleer and have seen the Ruins Garden he created there from the stone and slate ruins of the home of the original owner of the property. It’s a spectacular piece of garden art, which includes  the work of Berkeley garden sculptor Marcia Donahue.)\\nBecause Woods understands the need for well-planned garden form as well as for horticultural skill and knowledge, he gives us both perspectives in “Gardenlust.” You will learn the names and view the work of forward-looking garden designers the world over. You will also find discussions of certain soils and for important plants in each garden, their common as well as scientific names down to the often all-important cultivar name.\\nI also enjoyed Woods’ explorations of some common themes in gardens of our new century. One of these themes is conservation through cultivation — bringing native plants into gardens to ensure their survival. One of many examples is Pad Te Ke Botanical Garden in Laos, where 250 of that nation’s 485 native orchids are being grown. Another is the Jardín de Salvias in Mar del Plata, Argentina, where a former Buenos Aires professor, Rolando Uría, has initiated a collection of salvia species. (I was particularly taken with a photograph of Salvia foveolata, a tall salvia species with light yellow flowers and dark red sepals.)\\nA second common theme is environmental remediation. One example is the Naples Botanical Garden, in Naples, Fla., where a former shopping complex, garbage dump and parking lot has become a tropical paradise. Or consider Landschaftspark, in Duisburg-Nord, Germany, where the ruins of the former Thyssen smelting plant, which openly used slave labor during World War II,  is being redesigned into a park. Writes Woods: “Healing the wounds of history does not mean the expurgation of the past.” Here, the machinery that was used to create chemical and social toxins decays in place amid places to stroll, dance and play.\\nA third theme is bringing nature into the hearts of our overcrowded cities. In Tokyo, Ichigaya Forest is being planted in open spaces between tall buildings. Here, native species are being allowed to form their usual untidy but wonderful forest mix, interrupted only by sidewalks taken by workers to and from their city jobs. Other urban plantings are on roofs or walls. In Singapore, exuberant plantings perch on concrete platforms several stories up, like shelf fungi on a tree.\\nA fourth trend is a less formal style of gardening in which plantings appear to represent wild habitats, though only a portion of the plants used are truly native. Although a certain amount of reseeding and spreading is allowed, such plantings are nevertheless carefully curated and edited. This trend is also represented by the High Line in New York. (Not shown in this book. See the book “Gardens of the Highline,” Piet Oudolf and Rick Darke, Timber Press, 2017, which I reviewed in this column in June 2018). Woods shows and comments on several such “naturalistic” plantings. But, although the plantings are casual, they do require maintenance. Woods writes that he found the garden created for 2012 Olympics in London Olympic Park in such poor maintenance that “even benign neglect has been neglected.”  Other gardens, such as Junto Farm, a private garden in Hudson Valley, N.Y., and the public Martin Luther King Park in Paris, merit his high praise for both planting and maintenance.\\nThreaded through the entries is much analysis of this trend. Woods calls it “a relaxed interpretation of nature, seeking not to overpower but to cohabit,” and says such plantings can “serve as a bridge between us and what we think of as untamed nature.” Nevertheless, he says, “there should be no pretense that they aren’t artificial.” That is, it should be clear that these gardens are not restorations of meadows and prairies that are truly gone.\\nThe book gains value in my eyes by the fact that over half of the gardens are public, and therefore visitable should you travel to where they are. Some are relatively near. For example, the Chihuly garden in Seattle where colored glass art plays against plants, or the Garden of Flowering Fragrance, a Chinese garden at the Huntington Botanical Garden in San Marino (Los Angeles County). Others are farther away, but who knows, life might take you to Sydney to stroll the modern abstract landscapes of the Australian Garden in the Royal Botanic Gardens, or to Said-Ul-Azaib, Delhi, India, to enjoy the contemplative splendor of the Garden of the Five Senses.',\n",
       " 'author': 'Pam Peirce',\n",
       " 'date': '2019-02-01T18:02:33+00:00',\n",
       " 'date_updated': '2019-02-01T18:12:53+00:00'}"
      ]
     },
     "execution_count": 11,
     "metadata": {},
     "output_type": "execute_result"
    }
   ],
   "source": [
    "#Test on the article\n",
    "get_information('https://www.sfchronicle.com/homeandgarden/article/Gardenlust-looks-at-best-21st-century-13580871.php')"
   ]
  },
  {
   "cell_type": "markdown",
   "metadata": {
    "tags": [
     "exercise"
    ]
   },
   "source": [
    "__Exercise 1.3.__ Use your functions from exercises 1.1 and 1.2 to get data frames of articles for the \"Biz+Tech\" category as well as two other categories of your choosing (except for \"Vault: Archive\", \"Podcasts\", and \"In Depth\").\n",
    "\n",
    "Add a column to each that indicates the category, then combine them into one big data frame. Clean up the data, stripping excess whitespace and converting columns to appropriate dtypes.\n",
    "\n",
    "The `text` column of this data frame will be your corpus for natural language processing in exercise 1.4."
   ]
  },
  {
   "cell_type": "code",
   "execution_count": 993,
   "metadata": {},
   "outputs": [],
   "source": [
    "#Get data frames of articles for the \"Biz+Tech\" ,\"Sports\" and \"Politics\" category"
   ]
  },
  {
   "cell_type": "code",
   "execution_count": 12,
   "metadata": {},
   "outputs": [],
   "source": [
    "BizTech_link = get_links('https://www.sfchronicle.com/business/')\n",
    "BizTech = [get_information(u) for u in BizTech_link]\n",
    "BizTech = pd.DataFrame(BizTech)\n",
    "BizTech['category'] = 'Biz+Tech'"
   ]
  },
  {
   "cell_type": "code",
   "execution_count": 14,
   "metadata": {},
   "outputs": [],
   "source": [
    "Sport_link = get_links('https://www.sfchronicle.com/sports/')\n",
    "Sport = [get_information(u) for u in Sport_link]\n",
    "Sport = pd.DataFrame(Sport)\n",
    "Sport['category'] = 'Sports'"
   ]
  },
  {
   "cell_type": "code",
   "execution_count": 15,
   "metadata": {},
   "outputs": [],
   "source": [
    "Politics_link = get_links('https://www.sfchronicle.com/elections/')\n",
    "Politics = [get_information(u) for u in Politics_link]\n",
    "Politics = pd.DataFrame(Politics)\n",
    "Politics['category'] = 'Politics'"
   ]
  },
  {
   "cell_type": "code",
   "execution_count": 26,
   "metadata": {},
   "outputs": [],
   "source": [
    "#Combine the dataframe and clean the data\n",
    "#Remove title with NaN since they are not articles\n",
    "df = pd.concat([Politics,Sport,BizTech])\n",
    "df = df[df['title'] == df['title']]"
   ]
  },
  {
   "cell_type": "code",
   "execution_count": 27,
   "metadata": {},
   "outputs": [],
   "source": [
    "#Convert columns to appropriate dtypes\n",
    "df['date'] = pd.to_datetime(df['date'])\n",
    "df['date_updated'] = pd.to_datetime(df['date_updated'])\n",
    "df['title'] = [str(l) for l in df['title']]"
   ]
  },
  {
   "cell_type": "code",
   "execution_count": 28,
   "metadata": {},
   "outputs": [],
   "source": [
    "#Adjust the two or more author situations\n",
    "#Some elements with multiple authors has '\\n' and extra white space,so we remove extra things and make them clean\n",
    "def adjust_author(author):\n",
    "    author = ' '.join([w.strip() for w in author.split(\"\\n\")])\n",
    "    return author"
   ]
  },
  {
   "cell_type": "code",
   "execution_count": 29,
   "metadata": {},
   "outputs": [],
   "source": [
    "#Ajust the author column by applying function, and set missing value to NaN\n",
    "new = df.loc[df['author'].str.find('\\n') != -1.0,'author'].apply(adjust_author)\n",
    "df.loc[df['author'].str.find('\\n') != -1.0,'author'] = new\n",
    "df.loc[df['author'] == '','author'] = np.NaN"
   ]
  },
  {
   "cell_type": "code",
   "execution_count": 37,
   "metadata": {},
   "outputs": [
    {
     "data": {
      "text/html": [
       "<div>\n",
       "<style scoped>\n",
       "    .dataframe tbody tr th:only-of-type {\n",
       "        vertical-align: middle;\n",
       "    }\n",
       "\n",
       "    .dataframe tbody tr th {\n",
       "        vertical-align: top;\n",
       "    }\n",
       "\n",
       "    .dataframe thead th {\n",
       "        text-align: right;\n",
       "    }\n",
       "</style>\n",
       "<table border=\"1\" class=\"dataframe\">\n",
       "  <thead>\n",
       "    <tr style=\"text-align: right;\">\n",
       "      <th></th>\n",
       "      <th>author</th>\n",
       "      <th>date</th>\n",
       "      <th>date_updated</th>\n",
       "      <th>text</th>\n",
       "      <th>title</th>\n",
       "      <th>url</th>\n",
       "      <th>category</th>\n",
       "    </tr>\n",
       "  </thead>\n",
       "  <tbody>\n",
       "    <tr>\n",
       "      <th>0</th>\n",
       "      <td>Trisha Thadani</td>\n",
       "      <td>2018-11-12 03:35:18</td>\n",
       "      <td>2018-11-12 03:36:36</td>\n",
       "      <td>The San Francisco Board of Supervisors tilted ...</td>\n",
       "      <td>SF Board of Supervisors’ new mash-up of member...</td>\n",
       "      <td>https://www.sfchronicle.com/politics/article/S...</td>\n",
       "      <td>Politics</td>\n",
       "    </tr>\n",
       "    <tr>\n",
       "      <th>1</th>\n",
       "      <td>Tal Kopan</td>\n",
       "      <td>2019-02-05 18:37:42</td>\n",
       "      <td>2019-02-05 18:38:46</td>\n",
       "      <td>WASHINGTON — Maria Mendoza-Sanchez fought for ...</td>\n",
       "      <td>Deported Oakland nurse to be Barbara Lee guest...</td>\n",
       "      <td>https://www.sfchronicle.com/politics/article/D...</td>\n",
       "      <td>Politics</td>\n",
       "    </tr>\n",
       "    <tr>\n",
       "      <th>2</th>\n",
       "      <td>STEVE PEOPLES, AP National Political Writer</td>\n",
       "      <td>2019-02-22 23:00:17</td>\n",
       "      <td>2019-02-22 23:09:00</td>\n",
       "      <td>WASHINGTON (AP) — President Donald Trump has r...</td>\n",
       "      <td>Puerto Rico Gov: Trump refuses meeting over hu...</td>\n",
       "      <td>https://www.sfchronicle.com/news/article/Puert...</td>\n",
       "      <td>Politics</td>\n",
       "    </tr>\n",
       "    <tr>\n",
       "      <th>3</th>\n",
       "      <td>Joe Garofoli</td>\n",
       "      <td>2019-02-02 06:38:19</td>\n",
       "      <td>2019-02-02 06:39:34</td>\n",
       "      <td>Howard Schultz wanted to make sure that his Sa...</td>\n",
       "      <td>Howard Schultz tells San Francisco audience he...</td>\n",
       "      <td>https://www.sfchronicle.com/politics/article/H...</td>\n",
       "      <td>Politics</td>\n",
       "    </tr>\n",
       "    <tr>\n",
       "      <th>4</th>\n",
       "      <td>John Wildermuth</td>\n",
       "      <td>2019-01-04 12:00:00</td>\n",
       "      <td>2019-01-06 02:15:50</td>\n",
       "      <td>SACRAMENTO — When Jerry Brown’s fourth term in...</td>\n",
       "      <td>What Jerry Brown has learned</td>\n",
       "      <td>https://www.sfchronicle.com/politics/article/W...</td>\n",
       "      <td>Politics</td>\n",
       "    </tr>\n",
       "    <tr>\n",
       "      <th>5</th>\n",
       "      <td>John Wildermuth</td>\n",
       "      <td>2018-12-21 04:47:10</td>\n",
       "      <td>2018-12-21 04:48:29</td>\n",
       "      <td>Gov.-elect Gavin Newsom will separate himself ...</td>\n",
       "      <td>Gavin Newsom putting businesses in blind trust...</td>\n",
       "      <td>https://www.sfchronicle.com/politics/article/G...</td>\n",
       "      <td>Politics</td>\n",
       "    </tr>\n",
       "    <tr>\n",
       "      <th>6</th>\n",
       "      <td>Willie Brown</td>\n",
       "      <td>2019-02-02 12:00:00</td>\n",
       "      <td>2019-02-02 12:00:31</td>\n",
       "      <td>Sen. Kamala Harris’ Rolls-Royce rollout of her...</td>\n",
       "      <td>Kamala Harris learns the perils of presidentia...</td>\n",
       "      <td>https://www.sfchronicle.com/bayarea/willieswor...</td>\n",
       "      <td>Politics</td>\n",
       "    </tr>\n",
       "    <tr>\n",
       "      <th>7</th>\n",
       "      <td>Alexei Koseff</td>\n",
       "      <td>2019-02-13 01:04:59</td>\n",
       "      <td>2019-02-13 01:06:07</td>\n",
       "      <td>SACRAMENTO — Plans for a high-speed train betw...</td>\n",
       "      <td>Newsom says California high-speed rail must fo...</td>\n",
       "      <td>https://www.sfchronicle.com/politics/article/N...</td>\n",
       "      <td>Politics</td>\n",
       "    </tr>\n",
       "    <tr>\n",
       "      <th>8</th>\n",
       "      <td>Dominic Fracassa</td>\n",
       "      <td>2019-01-31 00:32:27</td>\n",
       "      <td>2019-01-31 00:33:41</td>\n",
       "      <td>San Francisco Mayor London Breed opened her fi...</td>\n",
       "      <td>In State of City speech, Mayor London Breed sa...</td>\n",
       "      <td>https://www.sfchronicle.com/bayarea/article/Wa...</td>\n",
       "      <td>Politics</td>\n",
       "    </tr>\n",
       "    <tr>\n",
       "      <th>9</th>\n",
       "      <td>Alexei Koseff</td>\n",
       "      <td>2019-01-25 03:03:38</td>\n",
       "      <td>2019-01-25 03:04:58</td>\n",
       "      <td>SACRAMENTO — A fourth-term assemblyman who clu...</td>\n",
       "      <td>California legislator flips from Republican to...</td>\n",
       "      <td>https://www.sfchronicle.com/politics/article/C...</td>\n",
       "      <td>Politics</td>\n",
       "    </tr>\n",
       "    <tr>\n",
       "      <th>10</th>\n",
       "      <td>Trisha Thadani</td>\n",
       "      <td>2018-11-09 03:31:27</td>\n",
       "      <td>2018-11-09 03:32:06</td>\n",
       "      <td>While there are still 118,000 ballots left to ...</td>\n",
       "      <td>New SF Board of Supervisors coming into focus ...</td>\n",
       "      <td>https://www.sfchronicle.com/politics/article/N...</td>\n",
       "      <td>Politics</td>\n",
       "    </tr>\n",
       "    <tr>\n",
       "      <th>11</th>\n",
       "      <td>Trisha Thadani</td>\n",
       "      <td>2018-11-28 04:38:21</td>\n",
       "      <td>2018-11-28 04:39:46</td>\n",
       "      <td>Twenty-one days after the Nov. 6 election, the...</td>\n",
       "      <td>SF declares supervisor race winners: Stefani, ...</td>\n",
       "      <td>https://www.sfchronicle.com/politics/article/S...</td>\n",
       "      <td>Politics</td>\n",
       "    </tr>\n",
       "    <tr>\n",
       "      <th>12</th>\n",
       "      <td>Kathleen Pender</td>\n",
       "      <td>2019-01-19 05:36:26</td>\n",
       "      <td>2019-01-19 05:38:08</td>\n",
       "      <td>Less than a month on the job, Gov. Gavin Newso...</td>\n",
       "      <td>Newsom at odds with US government over unemplo...</td>\n",
       "      <td>https://www.sfchronicle.com/business/networth/...</td>\n",
       "      <td>Politics</td>\n",
       "    </tr>\n",
       "    <tr>\n",
       "      <th>13</th>\n",
       "      <td>John Wildermuth</td>\n",
       "      <td>2019-01-03 22:09:59</td>\n",
       "      <td>2019-01-03 23:27:54</td>\n",
       "      <td>Sen. Dianne Feinstein told reporters Thursday ...</td>\n",
       "      <td>Feinstein says she’d back Joe Biden if he runs...</td>\n",
       "      <td>https://www.sfchronicle.com/politics/article/F...</td>\n",
       "      <td>Politics</td>\n",
       "    </tr>\n",
       "    <tr>\n",
       "      <th>14</th>\n",
       "      <td>Joe Garofoli</td>\n",
       "      <td>2019-01-06 12:00:00</td>\n",
       "      <td>2019-01-06 12:00:32</td>\n",
       "      <td>Gavin Newsom starts his gubernatorial career a...</td>\n",
       "      <td>Analysis: What could go wrong for Gavin Newsom...</td>\n",
       "      <td>https://www.sfchronicle.com/politics/article/A...</td>\n",
       "      <td>Politics</td>\n",
       "    </tr>\n",
       "    <tr>\n",
       "      <th>15</th>\n",
       "      <td>Melody Gutierrez</td>\n",
       "      <td>2018-12-04 03:28:23</td>\n",
       "      <td>2018-12-04 03:29:17</td>\n",
       "      <td>SACRAMENTO — California lawmakers who have lon...</td>\n",
       "      <td>Free preschool gains momentum with California ...</td>\n",
       "      <td>https://www.sfchronicle.com/politics/article/F...</td>\n",
       "      <td>Politics</td>\n",
       "    </tr>\n",
       "    <tr>\n",
       "      <th>16</th>\n",
       "      <td>EMERY P. DALESIO and JONATHAN DREW, Associated...</td>\n",
       "      <td>2019-02-22 23:09:15</td>\n",
       "      <td>2019-02-22 23:24:07</td>\n",
       "      <td>RALEIGH, N.C. (AP) — With a new election order...</td>\n",
       "      <td>Criminal charges possible in North Carolina's ...</td>\n",
       "      <td>https://www.sfchronicle.com/news/crime/article...</td>\n",
       "      <td>Politics</td>\n",
       "    </tr>\n",
       "    <tr>\n",
       "      <th>17</th>\n",
       "      <td>ANDREW TAYLOR, Associated Press</td>\n",
       "      <td>2019-02-22 23:30:42</td>\n",
       "      <td>2019-02-22 23:39:12</td>\n",
       "      <td>WASHINGTON (AP) — Democrats controlling the Ho...</td>\n",
       "      <td>Trump vows veto as Democrats try to block emer...</td>\n",
       "      <td>https://www.sfchronicle.com/news/texas/article...</td>\n",
       "      <td>Politics</td>\n",
       "    </tr>\n",
       "    <tr>\n",
       "      <th>18</th>\n",
       "      <td>John Wildermuth</td>\n",
       "      <td>2019-01-02 12:00:00</td>\n",
       "      <td>2019-01-08 22:31:06</td>\n",
       "      <td>The price of putting an initiative on the ball...</td>\n",
       "      <td>Qualifying a California ballot measure to beco...</td>\n",
       "      <td>https://www.sfchronicle.com/politics/article/Q...</td>\n",
       "      <td>Politics</td>\n",
       "    </tr>\n",
       "    <tr>\n",
       "      <th>19</th>\n",
       "      <td>Jill Tucker</td>\n",
       "      <td>2019-01-23 00:31:26</td>\n",
       "      <td>2019-01-23 00:32:07</td>\n",
       "      <td>San Francisco Mayor London Breed chose her own...</td>\n",
       "      <td>SF mayor picks her own education adviser for s...</td>\n",
       "      <td>https://www.sfchronicle.com/education/article/...</td>\n",
       "      <td>Politics</td>\n",
       "    </tr>\n",
       "  </tbody>\n",
       "</table>\n",
       "</div>"
      ],
      "text/plain": [
       "                                               author                date  \\\n",
       "0                                      Trisha Thadani 2018-11-12 03:35:18   \n",
       "1                                           Tal Kopan 2019-02-05 18:37:42   \n",
       "2         STEVE PEOPLES, AP National Political Writer 2019-02-22 23:00:17   \n",
       "3                                        Joe Garofoli 2019-02-02 06:38:19   \n",
       "4                                     John Wildermuth 2019-01-04 12:00:00   \n",
       "5                                     John Wildermuth 2018-12-21 04:47:10   \n",
       "6                                        Willie Brown 2019-02-02 12:00:00   \n",
       "7                                       Alexei Koseff 2019-02-13 01:04:59   \n",
       "8                                    Dominic Fracassa 2019-01-31 00:32:27   \n",
       "9                                       Alexei Koseff 2019-01-25 03:03:38   \n",
       "10                                     Trisha Thadani 2018-11-09 03:31:27   \n",
       "11                                     Trisha Thadani 2018-11-28 04:38:21   \n",
       "12                                    Kathleen Pender 2019-01-19 05:36:26   \n",
       "13                                    John Wildermuth 2019-01-03 22:09:59   \n",
       "14                                       Joe Garofoli 2019-01-06 12:00:00   \n",
       "15                                   Melody Gutierrez 2018-12-04 03:28:23   \n",
       "16  EMERY P. DALESIO and JONATHAN DREW, Associated... 2019-02-22 23:09:15   \n",
       "17                    ANDREW TAYLOR, Associated Press 2019-02-22 23:30:42   \n",
       "18                                    John Wildermuth 2019-01-02 12:00:00   \n",
       "19                                        Jill Tucker 2019-01-23 00:31:26   \n",
       "\n",
       "          date_updated                                               text  \\\n",
       "0  2018-11-12 03:36:36  The San Francisco Board of Supervisors tilted ...   \n",
       "1  2019-02-05 18:38:46  WASHINGTON — Maria Mendoza-Sanchez fought for ...   \n",
       "2  2019-02-22 23:09:00  WASHINGTON (AP) — President Donald Trump has r...   \n",
       "3  2019-02-02 06:39:34  Howard Schultz wanted to make sure that his Sa...   \n",
       "4  2019-01-06 02:15:50  SACRAMENTO — When Jerry Brown’s fourth term in...   \n",
       "5  2018-12-21 04:48:29  Gov.-elect Gavin Newsom will separate himself ...   \n",
       "6  2019-02-02 12:00:31  Sen. Kamala Harris’ Rolls-Royce rollout of her...   \n",
       "7  2019-02-13 01:06:07  SACRAMENTO — Plans for a high-speed train betw...   \n",
       "8  2019-01-31 00:33:41  San Francisco Mayor London Breed opened her fi...   \n",
       "9  2019-01-25 03:04:58  SACRAMENTO — A fourth-term assemblyman who clu...   \n",
       "10 2018-11-09 03:32:06  While there are still 118,000 ballots left to ...   \n",
       "11 2018-11-28 04:39:46  Twenty-one days after the Nov. 6 election, the...   \n",
       "12 2019-01-19 05:38:08  Less than a month on the job, Gov. Gavin Newso...   \n",
       "13 2019-01-03 23:27:54  Sen. Dianne Feinstein told reporters Thursday ...   \n",
       "14 2019-01-06 12:00:32  Gavin Newsom starts his gubernatorial career a...   \n",
       "15 2018-12-04 03:29:17  SACRAMENTO — California lawmakers who have lon...   \n",
       "16 2019-02-22 23:24:07  RALEIGH, N.C. (AP) — With a new election order...   \n",
       "17 2019-02-22 23:39:12  WASHINGTON (AP) — Democrats controlling the Ho...   \n",
       "18 2019-01-08 22:31:06  The price of putting an initiative on the ball...   \n",
       "19 2019-01-23 00:32:07  San Francisco Mayor London Breed chose her own...   \n",
       "\n",
       "                                                title  \\\n",
       "0   SF Board of Supervisors’ new mash-up of member...   \n",
       "1   Deported Oakland nurse to be Barbara Lee guest...   \n",
       "2   Puerto Rico Gov: Trump refuses meeting over hu...   \n",
       "3   Howard Schultz tells San Francisco audience he...   \n",
       "4                        What Jerry Brown has learned   \n",
       "5   Gavin Newsom putting businesses in blind trust...   \n",
       "6   Kamala Harris learns the perils of presidentia...   \n",
       "7   Newsom says California high-speed rail must fo...   \n",
       "8   In State of City speech, Mayor London Breed sa...   \n",
       "9   California legislator flips from Republican to...   \n",
       "10  New SF Board of Supervisors coming into focus ...   \n",
       "11  SF declares supervisor race winners: Stefani, ...   \n",
       "12  Newsom at odds with US government over unemplo...   \n",
       "13  Feinstein says she’d back Joe Biden if he runs...   \n",
       "14  Analysis: What could go wrong for Gavin Newsom...   \n",
       "15  Free preschool gains momentum with California ...   \n",
       "16  Criminal charges possible in North Carolina's ...   \n",
       "17  Trump vows veto as Democrats try to block emer...   \n",
       "18  Qualifying a California ballot measure to beco...   \n",
       "19  SF mayor picks her own education adviser for s...   \n",
       "\n",
       "                                                  url  category  \n",
       "0   https://www.sfchronicle.com/politics/article/S...  Politics  \n",
       "1   https://www.sfchronicle.com/politics/article/D...  Politics  \n",
       "2   https://www.sfchronicle.com/news/article/Puert...  Politics  \n",
       "3   https://www.sfchronicle.com/politics/article/H...  Politics  \n",
       "4   https://www.sfchronicle.com/politics/article/W...  Politics  \n",
       "5   https://www.sfchronicle.com/politics/article/G...  Politics  \n",
       "6   https://www.sfchronicle.com/bayarea/willieswor...  Politics  \n",
       "7   https://www.sfchronicle.com/politics/article/N...  Politics  \n",
       "8   https://www.sfchronicle.com/bayarea/article/Wa...  Politics  \n",
       "9   https://www.sfchronicle.com/politics/article/C...  Politics  \n",
       "10  https://www.sfchronicle.com/politics/article/N...  Politics  \n",
       "11  https://www.sfchronicle.com/politics/article/S...  Politics  \n",
       "12  https://www.sfchronicle.com/business/networth/...  Politics  \n",
       "13  https://www.sfchronicle.com/politics/article/F...  Politics  \n",
       "14  https://www.sfchronicle.com/politics/article/A...  Politics  \n",
       "15  https://www.sfchronicle.com/politics/article/F...  Politics  \n",
       "16  https://www.sfchronicle.com/news/crime/article...  Politics  \n",
       "17  https://www.sfchronicle.com/news/texas/article...  Politics  \n",
       "18  https://www.sfchronicle.com/politics/article/Q...  Politics  \n",
       "19  https://www.sfchronicle.com/education/article/...  Politics  "
      ]
     },
     "execution_count": 37,
     "metadata": {},
     "output_type": "execute_result"
    }
   ],
   "source": [
    "#give index\n",
    "df.index = range(len(df['author']))\n",
    "df[0:20]"
   ]
  },
  {
   "cell_type": "markdown",
   "metadata": {
    "tags": [
     "exercise"
    ]
   },
   "source": [
    "__Exercise 1.4.__  What topics has the Chronicle covered recently? How does the category affect the topics? Support your analysis with visualizations.\n",
    "\n",
    "Hints:\n",
    "\n",
    "*   The [nltk book](http://www.nltk.org/book/) may be helpful here.\n",
    "\n",
    "*   This question will be easier to do after we've finished NLP in class."
   ]
  },
  {
   "cell_type": "code",
   "execution_count": 32,
   "metadata": {},
   "outputs": [],
   "source": [
    "def get_frequency(text):\n",
    "    \"\"\"This function take the text need to be tokenized as an input and return a list of frequency of words.\n",
    "    \"\"\"\n",
    "    #Tokenize the lower case\n",
    "    words = nltk.word_tokenize(text.lower())\n",
    "    \n",
    "    #Do not need stopwords and some words that we could not see the topic form them\n",
    "    #for example san francisco is meaningless since we get article from sfchronicle\n",
    "    stopwords = nltk.corpus.stopwords.words(\"english\")+['said','get','like','would','one','two','san','francisco',\n",
    "                                                        'california','state','also','could','think','percent','new',\n",
    "                                                       'year','city','first','people','years','last','going','million',\n",
    "                                                        'time']\n",
    "    words = [w for w in words if w not in stopwords]\n",
    "    \n",
    "    #Get frequency\n",
    "    fq = nltk.FreqDist(w for w in words if w.isalnum())\n",
    "    return fq"
   ]
  },
  {
   "cell_type": "code",
   "execution_count": 33,
   "metadata": {},
   "outputs": [
    {
     "data": {
      "image/png": "[encoded data removed]",
      "text/plain": [
       "<Figure size 432x288 with 1 Axes>"
      ]
     },
     "metadata": {
      "needs_background": "light"
     },
     "output_type": "display_data"
    }
   ],
   "source": [
    "#Get all the text in datafame together and see their fquency\n",
    "all_text = ' '.join(df['text'])\n",
    "fq_all = get_frequency(all_text)\n",
    "fq_all.plot(20)"
   ]
  },
  {
   "cell_type": "markdown",
   "metadata": {},
   "source": [
    "From the plot, we can see that 'newsom','trump' and 'president' appear mostly. So, recently the Chronicle covered topics about Newsom and Trump. This may because that Newsom is current governor of California and Trump is the president of U.S., so they have a huge influence on politics. The reason why Newsom appears more than Trump may be that Chronicle is related to SF. In addition, the Chronicle may also cover topics on making money since 'money' appeard many times. Furthermore, it has many topics on sports game since 'game','ponits' and 'team' appaer many times. What's more, it may have topics on house rental or price since the times 'house' appears many times. Also, the Chronicle may also mentions topics on house democrats many times since 'house' and 'democrats' appear a lot."
   ]
  },
  {
   "cell_type": "code",
   "execution_count": 34,
   "metadata": {},
   "outputs": [
    {
     "data": {
      "image/png": "[encoded data removed]",
      "text/plain": [
       "<Figure size 432x288 with 1 Axes>"
      ]
     },
     "metadata": {
      "needs_background": "light"
     },
     "output_type": "display_data"
    }
   ],
   "source": [
    "#Get Biz+Tech text in datafame together and see their fquency\n",
    "text = ' '.join(df[df['category'] == 'Biz+Tech']['text'])\n",
    "fq = get_frequency(text)\n",
    "fq.plot(20)"
   ]
  },
  {
   "cell_type": "code",
   "execution_count": 35,
   "metadata": {},
   "outputs": [
    {
     "data": {
      "image/png": "[encoded data removed]",
      "text/plain": [
       "<Figure size 432x288 with 1 Axes>"
      ]
     },
     "metadata": {
      "needs_background": "light"
     },
     "output_type": "display_data"
    }
   ],
   "source": [
    "#Get sports text in datafame together and see their fquency\n",
    "text = ' '.join(df[df['category'] == 'Sports']['text'])\n",
    "fq = get_frequency(text)\n",
    "fq.plot(20)"
   ]
  },
  {
   "cell_type": "code",
   "execution_count": 36,
   "metadata": {},
   "outputs": [
    {
     "data": {
      "image/png": "[encoded data removed]",
      "text/plain": [
       "<Figure size 432x288 with 1 Axes>"
      ]
     },
     "metadata": {
      "needs_background": "light"
     },
     "output_type": "display_data"
    }
   ],
   "source": [
    "#Get politics text in datafame together and see their fquency\n",
    "text = ' '.join(df[df['category'] == 'Politics']['text'])\n",
    "fq = get_frequency(text)\n",
    "fq.plot(20)"
   ]
  },
  {
   "cell_type": "markdown",
   "metadata": {},
   "source": [
    "From the upper three plots, we can see that the categories influence the topcis a lot. The topics always closely related to category. More precisely, in the first plot, which is a 'Biz+Tech' category, 'company','airbnb','pg' and 'e' appear mostly. We can know that it talks about company, pge and some other things related to business; it also covers topics on someone called 'Edward'. He may be closely related to business or technologhy since we are in Biz+Tech Category. In addition, it may mention a lot of topics on work plan since the times 'work' and 'plan' appear are similar. Also, we can see topics on youtube is really popular.\n",
    "\n",
    "As for the 'Sports' category in second plot, 'game','points','football' appear mostly. It is easy to see that it mentions a lot of things related to sports game: game, season, player and team. And we can see that football is really popular since 'football' and 'nfl' appear a lot of times. This category also covers topics on school sports since 'school' appears many time.\n",
    "\n",
    "Finally, for 'Politics' category in last plot, 'newsom','trump' and 'president' appaer mostly. There are plenty of topics on Newsom and Trump since they are both powerful Politicians. Also, this category covers a lot of topics on house democrats and money. There are more topics on democratic than on republication since we get article from sfchronicle. And since 'Politics' category has much more articles than other categories:'Sports' and 'Biz+Tech', the most polpular words in this catagory becomes the most popular words among all three categories; we can see this in frequncy distribution plot of all articles."
   ]
  }
 ],
 "metadata": {
  "kernelspec": {
   "display_name": "Python 3",
   "language": "python",
   "name": "python3"
  },
  "language_info": {
   "codemirror_mode": {
    "name": "ipython",
    "version": 3
   },
   "file_extension": ".py",
   "mimetype": "text/x-python",
   "name": "python",
   "nbconvert_exporter": "python",
   "pygments_lexer": "ipython3",
   "version": "3.7.1"
  }
 },
 "nbformat": 4,
 "nbformat_minor": 2
}
